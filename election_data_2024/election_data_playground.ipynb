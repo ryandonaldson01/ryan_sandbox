{
 "cells": [
  {
   "cell_type": "markdown",
   "id": "80c214f1",
   "metadata": {},
   "source": [
    "# 2024 Election Data Playground"
   ]
  },
  {
   "cell_type": "code",
   "execution_count": 1,
   "id": "97e1c170",
   "metadata": {},
   "outputs": [],
   "source": [
    "import geopandas as gpd"
   ]
  },
  {
   "cell_type": "code",
   "execution_count": 2,
   "id": "760c0753",
   "metadata": {},
   "outputs": [],
   "source": [
    "f = gpd.read_file(\"precincts-with-results.topojson\")"
   ]
  }
 ],
 "metadata": {
  "kernelspec": {
   "display_name": "weather",
   "language": "python",
   "name": "python3"
  },
  "language_info": {
   "codemirror_mode": {
    "name": "ipython",
    "version": 3
   },
   "file_extension": ".py",
   "mimetype": "text/x-python",
   "name": "python",
   "nbconvert_exporter": "python",
   "pygments_lexer": "ipython3",
   "version": "3.12.7"
  }
 },
 "nbformat": 4,
 "nbformat_minor": 5
}
