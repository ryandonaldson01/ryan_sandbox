{
 "cells": [
  {
   "cell_type": "markdown",
   "id": "80c214f1",
   "metadata": {},
   "source": [
    "# 2024 Election Data Playground"
   ]
  },
  {
   "cell_type": "code",
   "execution_count": 1,
   "id": "97e1c170",
   "metadata": {},
   "outputs": [],
   "source": [
    "import geopandas as gpd\n",
    "import numpy as np\n",
    "from tqdm import tqdm \n",
    "import pandas as pd"
   ]
  },
  {
   "cell_type": "code",
   "execution_count": null,
   "id": "760c0753",
   "metadata": {},
   "outputs": [
    {
     "name": "stderr",
     "output_type": "stream",
     "text": [
      "100%|██████████| 435/435 [02:43<00:00,  2.66it/s]\n"
     ]
    }
   ],
   "source": [
    "#load presidential results\n",
    "pres_results = gpd.read_file(\"precincts-with-results.topojson\")\n",
    "pres_results[\"centroid\"] = pres_results[\"geometry\"].centroid\n",
    "pres_results[\"district\"] = None\n",
    "\n",
    "#load districts data\n",
    "file_name = \"/Users/ryandonaldson/ryan_sandbox/election_data_2024/national_cong118_boundary/national_cong118_boundary/national_cong118_boundary.shp\"\n",
    "districts = gpd.read_file(file_name)\n",
    "\n",
    "\n",
    "#sort the precints into districts\n",
    "for i, row in tqdm(districts.iterrows(), total=len(districts)):\n",
    "    precincts_in_district_bool = row[\"geometry\"].contains(pres_results[\"centroid\"])\n",
    "    pres_results.loc[precincts_in_district_bool, \"district\"] = row[\"CONG118\"]\n"
   ]
  },
  {
   "cell_type": "code",
   "execution_count": 3,
   "id": "f0655460",
   "metadata": {},
   "outputs": [
    {
     "data": {
      "text/html": [
       "<div>\n",
       "<style scoped>\n",
       "    .dataframe tbody tr th:only-of-type {\n",
       "        vertical-align: middle;\n",
       "    }\n",
       "\n",
       "    .dataframe tbody tr th {\n",
       "        vertical-align: top;\n",
       "    }\n",
       "\n",
       "    .dataframe thead th {\n",
       "        text-align: right;\n",
       "    }\n",
       "</style>\n",
       "<table border=\"1\" class=\"dataframe\">\n",
       "  <thead>\n",
       "    <tr style=\"text-align: right;\">\n",
       "      <th></th>\n",
       "      <th>votes_dem</th>\n",
       "      <th>votes_rep</th>\n",
       "      <th>votes_total</th>\n",
       "      <th>dem_perc_pres</th>\n",
       "      <th>rep_perc_pres</th>\n",
       "    </tr>\n",
       "    <tr>\n",
       "      <th>district</th>\n",
       "      <th></th>\n",
       "      <th></th>\n",
       "      <th></th>\n",
       "      <th></th>\n",
       "      <th></th>\n",
       "    </tr>\n",
       "  </thead>\n",
       "  <tbody>\n",
       "    <tr>\n",
       "      <th>AR-01</th>\n",
       "      <td>74300</td>\n",
       "      <td>201263</td>\n",
       "      <td>280943</td>\n",
       "      <td>0.264466</td>\n",
       "      <td>0.716384</td>\n",
       "    </tr>\n",
       "    <tr>\n",
       "      <th>AR-02</th>\n",
       "      <td>133378</td>\n",
       "      <td>187500</td>\n",
       "      <td>328790</td>\n",
       "      <td>0.405663</td>\n",
       "      <td>0.570273</td>\n",
       "    </tr>\n",
       "    <tr>\n",
       "      <th>AR-03</th>\n",
       "      <td>114908</td>\n",
       "      <td>194657</td>\n",
       "      <td>318213</td>\n",
       "      <td>0.361104</td>\n",
       "      <td>0.611719</td>\n",
       "    </tr>\n",
       "    <tr>\n",
       "      <th>AR-04</th>\n",
       "      <td>81291</td>\n",
       "      <td>192704</td>\n",
       "      <td>279133</td>\n",
       "      <td>0.291227</td>\n",
       "      <td>0.690366</td>\n",
       "    </tr>\n",
       "    <tr>\n",
       "      <th>AZ-01</th>\n",
       "      <td>216232</td>\n",
       "      <td>230227</td>\n",
       "      <td>450724</td>\n",
       "      <td>0.479744</td>\n",
       "      <td>0.510794</td>\n",
       "    </tr>\n",
       "    <tr>\n",
       "      <th>...</th>\n",
       "      <td>...</td>\n",
       "      <td>...</td>\n",
       "      <td>...</td>\n",
       "      <td>...</td>\n",
       "      <td>...</td>\n",
       "    </tr>\n",
       "    <tr>\n",
       "      <th>WI-07</th>\n",
       "      <td>167604</td>\n",
       "      <td>266844</td>\n",
       "      <td>441113</td>\n",
       "      <td>0.379957</td>\n",
       "      <td>0.604933</td>\n",
       "    </tr>\n",
       "    <tr>\n",
       "      <th>WI-08</th>\n",
       "      <td>177232</td>\n",
       "      <td>247092</td>\n",
       "      <td>429848</td>\n",
       "      <td>0.412313</td>\n",
       "      <td>0.574836</td>\n",
       "    </tr>\n",
       "    <tr>\n",
       "      <th>WV-01</th>\n",
       "      <td>98066</td>\n",
       "      <td>259831</td>\n",
       "      <td>364662</td>\n",
       "      <td>0.268923</td>\n",
       "      <td>0.712526</td>\n",
       "    </tr>\n",
       "    <tr>\n",
       "      <th>WV-02</th>\n",
       "      <td>116243</td>\n",
       "      <td>273725</td>\n",
       "      <td>397728</td>\n",
       "      <td>0.292268</td>\n",
       "      <td>0.688222</td>\n",
       "    </tr>\n",
       "    <tr>\n",
       "      <th>WY-01</th>\n",
       "      <td>69527</td>\n",
       "      <td>192633</td>\n",
       "      <td>269048</td>\n",
       "      <td>0.258419</td>\n",
       "      <td>0.715980</td>\n",
       "    </tr>\n",
       "  </tbody>\n",
       "</table>\n",
       "<p>393 rows × 5 columns</p>\n",
       "</div>"
      ],
      "text/plain": [
       "          votes_dem  votes_rep  votes_total  dem_perc_pres  rep_perc_pres\n",
       "district                                                                 \n",
       "AR-01         74300     201263       280943       0.264466       0.716384\n",
       "AR-02        133378     187500       328790       0.405663       0.570273\n",
       "AR-03        114908     194657       318213       0.361104       0.611719\n",
       "AR-04         81291     192704       279133       0.291227       0.690366\n",
       "AZ-01        216232     230227       450724       0.479744       0.510794\n",
       "...             ...        ...          ...            ...            ...\n",
       "WI-07        167604     266844       441113       0.379957       0.604933\n",
       "WI-08        177232     247092       429848       0.412313       0.574836\n",
       "WV-01         98066     259831       364662       0.268923       0.712526\n",
       "WV-02        116243     273725       397728       0.292268       0.688222\n",
       "WY-01         69527     192633       269048       0.258419       0.715980\n",
       "\n",
       "[393 rows x 5 columns]"
      ]
     },
     "execution_count": 3,
     "metadata": {},
     "output_type": "execute_result"
    }
   ],
   "source": [
    "#load house and senate results\n",
    "file_name = \"/Users/ryandonaldson/ryan_sandbox/election_data_2024/election_results_house.csv\"\n",
    "house_results = gpd.read_file(file_name)\n",
    "\n",
    "file_name = \"/Users/ryandonaldson/ryan_sandbox/election_data_2024/election_results_senate.csv\"\n",
    "senate_results = gpd.read_file(file_name)\n",
    "\n",
    "#sum precient data by district\n",
    "districts[\"Presidential_Dem\"] = None\n",
    "districts[\"Presidential_Rep\"] = None\n",
    "\n",
    "#calcualte voting percentage\n",
    "pres_results_by_district = pres_results.groupby(\"district\").agg({\"votes_dem\": \"sum\", \"votes_rep\": \"sum\",  \"votes_total\": \"sum\"})\n",
    "pres_results_by_district[\"dem_perc_pres\"] = pres_results_by_district[\"votes_dem\"]/pres_results_by_district[\"votes_total\"]\n",
    "pres_results_by_district[\"rep_perc_pres\"] = pres_results_by_district[\"votes_rep\"]/pres_results_by_district[\"votes_total\"]\n",
    "\n",
    "#rename AT LARGE districts to 01 for joining\n",
    "pres_results_by_district = pres_results_by_district.reset_index()\n",
    "at_large_districts = pres_results_by_district[\"district\"].str.contains(\"AT-LARGE\")\n",
    "districts = pres_results_by_district[\"district\"].to_list()\n",
    "\n",
    "def rename_func(x):\n",
    "    if \"AT-LARGE\" in x:\n",
    "        return(x[:-9] + \"-01\")\n",
    "    else:\n",
    "        return x\n",
    "districts = list(map(rename_func,districts))\n",
    "pres_results_by_district[\"district\"] = districts\n",
    "\n",
    "pres_results_by_district.set_index('district')"
   ]
  },
  {
   "cell_type": "code",
   "execution_count": 17,
   "id": "bb814d6e",
   "metadata": {},
   "outputs": [
    {
     "name": "stdout",
     "output_type": "stream",
     "text": [
      "False\n"
     ]
    }
   ],
   "source": [
    "results_by_district = pres_results_by_district\n",
    "\n",
    "\n",
    "#make a table for house dems\n",
    "house_results[\"district\"] = house_results[\"office_seat_name\"].apply(lambda x: f\"-{int(x[9:]):02}\")\n",
    "house_results[\"district\"] = house_results[\"state_abbrev\"] + house_results[\"district\"]\n",
    "house_results = house_results[house_results[\"cycle\"] == \"2024\"]\n",
    "house_results_dems = house_results[house_results[\"ballot_party\"] == \"DEM\"]\n",
    "\n",
    "#join pres results with house dems\n",
    "results_by_district = results_by_district.set_index('district')\n",
    "results_by_district = results_by_district.join(house_results_dems.set_index('district'), how='left', lsuffix='pres', rsuffix='house')\n",
    "results_by_district = results_by_district.reset_index()\n",
    "\n",
    "#simplify table\n",
    "results_by_district = results_by_district[[\"district\", \"dem_perc_pres\", \"rep_perc_pres\", \"candidate_name\", \"percent\", \"ranked_choice_round\"]]\n",
    "results_by_district = results_by_district.sort_values(by=[\"district\", \"percent\"])\n",
    "results_by_district = results_by_district.drop_duplicates(keep='last', subset=\"district\")\n",
    "\n",
    "#remove duplicates\n",
    "#results_by_district[results_by_district.duplicated(keep=False)]\n",
    "\n",
    "\n",
    "#print table\n",
    "with pd.option_context('display.max_rows', None,\n",
    "                       'display.max_columns', None,\n",
    "                       'display.precision', 3,\n",
    "                       ):\n",
    "    print(any(results_by_district.duplicated(subset=\"district\")))"
   ]
  },
  {
   "cell_type": "code",
   "execution_count": 13,
   "id": "17905e08",
   "metadata": {},
   "outputs": [
    {
     "data": {
      "text/plain": [
       "Index(['district', 'dem_perc_pres', 'rep_perc_pres', 'candidate_name',\n",
       "       'percent', 'ranked_choice_round'],\n",
       "      dtype='object')"
      ]
     },
     "execution_count": 13,
     "metadata": {},
     "output_type": "execute_result"
    }
   ],
   "source": [
    "results_by_district.columns"
   ]
  },
  {
   "cell_type": "code",
   "execution_count": 11,
   "id": "8e72e42b",
   "metadata": {},
   "outputs": [
    {
     "data": {
      "text/plain": [
       "Series([], Name: district, dtype: object)"
      ]
     },
     "execution_count": 11,
     "metadata": {},
     "output_type": "execute_result"
    }
   ],
   "source": [
    "results_by_district[\"district\"][results_by_district[\"district\"].str.contains(\"AT_LARGE\")]"
   ]
  },
  {
   "cell_type": "code",
   "execution_count": null,
   "id": "ab571d1f",
   "metadata": {},
   "outputs": [],
   "source": [
    "results_by_district = pres_results_by_district\n",
    "for i, row in results_by_district.iterrows():\n",
    "    state_bool = house_results[\"state_abbrev\"] == row[\"district\"][:2]"
   ]
  },
  {
   "cell_type": "code",
   "execution_count": 12,
   "id": "d6a4feda",
   "metadata": {},
   "outputs": [
    {
     "data": {
      "text/plain": [
       "Index(['id', 'race_id', 'state_abbrev', 'state', 'office_id', 'office_name',\n",
       "       'office_seat_name', 'cycle', 'stage', 'special', 'party',\n",
       "       'politician_id', 'candidate_id', 'candidate_name', 'ballot_party',\n",
       "       'ranked_choice_round', 'votes', 'percent', 'unopposed', 'winner',\n",
       "       'alt_result_text', 'source', 'district'],\n",
       "      dtype='object')"
      ]
     },
     "execution_count": 12,
     "metadata": {},
     "output_type": "execute_result"
    }
   ],
   "source": [
    "house_results.columns"
   ]
  },
  {
   "cell_type": "code",
   "execution_count": null,
   "id": "61dc5b56",
   "metadata": {},
   "outputs": [],
   "source": []
  }
 ],
 "metadata": {
  "kernelspec": {
   "display_name": "weather",
   "language": "python",
   "name": "python3"
  },
  "language_info": {
   "codemirror_mode": {
    "name": "ipython",
    "version": 3
   },
   "file_extension": ".py",
   "mimetype": "text/x-python",
   "name": "python",
   "nbconvert_exporter": "python",
   "pygments_lexer": "ipython3",
   "version": "3.12.7"
  }
 },
 "nbformat": 4,
 "nbformat_minor": 5
}
