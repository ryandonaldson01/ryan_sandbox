{
 "cells": [
  {
   "cell_type": "markdown",
   "metadata": {},
   "source": [
    "# Weather Mapping Playground"
   ]
  },
  {
   "cell_type": "code",
   "execution_count": 2,
   "metadata": {},
   "outputs": [],
   "source": [
    "import numpy as np\n",
    "import matplotlib.pyplot as plt\n",
    "import cartopy.crs as ccrs\n",
    "import cartopy.feature as cfeature\n",
    "import meteostat as ms\n",
    "from datetime import datetime\n",
    "import pandas as pd\n",
    "from tqdm import tqdm\n",
    "\n",
    "import warnings\n",
    "warnings.filterwarnings(\"ignore\")"
   ]
  },
  {
   "cell_type": "code",
   "execution_count": 3,
   "metadata": {},
   "outputs": [],
   "source": [
    "def f_to_c(x):\n",
    "    return (x - 32)/9*5"
   ]
  },
  {
   "cell_type": "code",
   "execution_count": null,
   "metadata": {},
   "outputs": [
    {
     "name": "stderr",
     "output_type": "stream",
     "text": [
      "  8%|▊         | 464/6000 [00:58<13:26,  6.86it/s]"
     ]
    }
   ],
   "source": [
    "def c_to_f(x):\n",
    "    return x*9/5 + 32\n",
    "\n",
    "\n",
    "bbox_deg = [-74, -66.5, 40, 48]\n",
    "res = 0.1\n",
    "start = datetime(2021, 9, 1)\n",
    "end = datetime(2024, 9, 1)\n",
    "\n",
    "lats = np.arange(bbox_deg[2], bbox_deg[3], res)\n",
    "lons = np.arange(bbox_deg[0], bbox_deg[1], res)\n",
    "lons_mesh, lats_mesh = np.meshgrid(lons, lats)\n",
    "\n",
    "\n",
    "data = []\n",
    "for lat, lon in tqdm(zip(lats_mesh.flatten(), lons_mesh.flatten()), total=len(lats_mesh.flatten())):\n",
    "    \n",
    "    point = ms.Point(lat=lat, lon=lon)\n",
    "    point.alt_range = 2000\n",
    "    point.radius = 100000\n",
    "    point.method = 'weighted'\n",
    "    \n",
    "    daily_data = ms.Daily(point, start, end)\n",
    "    daily_data = daily_data.fetch()\n",
    "    daily_data['lat'] = lat\n",
    "    daily_data['lon'] = lon\n",
    "    \n",
    "    data.append(daily_data)\n",
    "\n",
    "# Concatenate the data from all locations into a single dataframe\n",
    "result = pd.concat(data)\n",
    "\n",
    "\n",
    "\n",
    "\n",
    "# plt.rcParams['date.converter'] = 'auto'\n"
   ]
  },
  {
   "cell_type": "code",
   "execution_count": null,
   "metadata": {},
   "outputs": [
    {
     "name": "stderr",
     "output_type": "stream",
     "text": [
      "100%|██████████| 80/80 [00:34<00:00,  2.31it/s]\n"
     ]
    }
   ],
   "source": [
    "map_data = np.full(lons_mesh.shape, np.nan)\n",
    "for i, lat in tqdm(enumerate(lats), total=len(lats)):\n",
    "    for j, lon in enumerate(lons):\n",
    "        location_data = result[(result['lon'] == lon) & (result['lat'] == lat)]\n",
    "        data_point = location_data[location_data.index == datetime(2023, 7, 1)]\n",
    "        if not data_point.empty:\n",
    "            map_data[i,j] = data_point['tavg']\n",
    "\n",
    "map_data = c_to_f(map_data)"
   ]
  },
  {
   "cell_type": "code",
   "execution_count": null,
   "metadata": {},
   "outputs": [
    {
     "name": "stderr",
     "output_type": "stream",
     "text": [
      "100%|██████████| 80/80 [00:33<00:00,  2.37it/s]\n"
     ]
    }
   ],
   "source": [
    "map_data = np.full(lons_mesh.shape, np.nan)\n",
    "for i, lat in tqdm(enumerate(lats), total=len(lats)):\n",
    "    for j, lon in enumerate(lons):\n",
    "        location_data = result[(result['lon'] == lon) & (result['lat'] == lat)]\n",
    "        if not location_data.empty:\n",
    "            map_data[i,j] = np.sum(location_data['tmax'] > f_to_c(90))"
   ]
  },
  {
   "cell_type": "code",
   "execution_count": null,
   "metadata": {},
   "outputs": [
    {
     "ename": "NameError",
     "evalue": "name 'plt' is not defined",
     "output_type": "error",
     "traceback": [
      "\u001b[0;31m---------------------------------------------------------------------------\u001b[0m",
      "\u001b[0;31mNameError\u001b[0m                                 Traceback (most recent call last)",
      "Cell \u001b[0;32mIn[1], line 1\u001b[0m\n\u001b[0;32m----> 1\u001b[0m fig \u001b[38;5;241m=\u001b[39m \u001b[43mplt\u001b[49m\u001b[38;5;241m.\u001b[39mfigure(figsize\u001b[38;5;241m=\u001b[39m(\u001b[38;5;241m20\u001b[39m,\u001b[38;5;241m10\u001b[39m))\n\u001b[1;32m      2\u001b[0m ax \u001b[38;5;241m=\u001b[39m fig\u001b[38;5;241m.\u001b[39madd_subplot(projection\u001b[38;5;241m=\u001b[39mccrs\u001b[38;5;241m.\u001b[39mMercator())\n\u001b[1;32m      3\u001b[0m ax\u001b[38;5;241m.\u001b[39mset_extent(bbox_deg, ccrs\u001b[38;5;241m.\u001b[39mGeodetic())\n",
      "\u001b[0;31mNameError\u001b[0m: name 'plt' is not defined"
     ]
    }
   ],
   "source": [
    "\n",
    "\n",
    "fig = plt.figure(figsize=(20,10))\n",
    "ax = fig.add_subplot(projection=ccrs.Mercator())\n",
    "ax.set_extent(bbox_deg, ccrs.Geodetic())\n",
    "\n",
    "ax.add_feature(cfeature.STATES)\n",
    "ax.add_feature(cfeature.LAKES)\n",
    "ax.add_feature(cfeature.RIVERS)\n",
    "ax.coastlines()\n",
    "ax.gridlines(draw_labels=True)\n",
    "\n",
    "\n",
    "contour = ax.contourf(lons, lats, map_data, transform=ccrs.PlateCarree(), cmap='coolwarm', levels=50)\n",
    "fig.colorbar(contour, ax=ax, label=\"Tempature (F°)\")\n",
    "fig.title(f\"Average Tempature from {start} to {end}\")"
   ]
  },
  {
   "cell_type": "code",
   "execution_count": null,
   "metadata": {},
   "outputs": [],
   "source": []
  }
 ],
 "metadata": {
  "kernelspec": {
   "display_name": "weather",
   "language": "python",
   "name": "python3"
  },
  "language_info": {
   "codemirror_mode": {
    "name": "ipython",
    "version": 3
   },
   "file_extension": ".py",
   "mimetype": "text/x-python",
   "name": "python",
   "nbconvert_exporter": "python",
   "pygments_lexer": "ipython3",
   "version": "3.12.7"
  }
 },
 "nbformat": 4,
 "nbformat_minor": 2
}
